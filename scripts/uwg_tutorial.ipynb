{
 "cells": [
  {
   "cell_type": "markdown",
   "metadata": {},
   "source": [
    "## Urban Weather Generator (UWG) tutorial\n",
    "---\n",
    "\n",
    "[Urban Weather Generator](https://github.com/ladybug-tools/uwg/tree/master) (`uwg`) is a Python application for modeling the urban heat island effects. It is part of the [Ladybug Tools](https://github.com/ladybug-tools) collections, a *\"collection of free and open-source computer applications that support environmentally-conscious design and simulation\"*. Complete `uwg` API documentation can be found [here](https://www.ladybug.tools/uwg/docs/index.html). `uwg` works both as a CLI (Command Line Interface) and a Python scripting module! \n",
    "\n",
    "To import the module in a Python script or in your terminal (through Python or IPython), simply type this. You may also check if the installation was successful by running `uwg --help` in your terminal.\n",
    "You can install `uwg` with `pip` right from your terminal. "
   ]
  },
  {
   "cell_type": "code",
   "execution_count": 1,
   "metadata": {},
   "outputs": [
    {
     "name": "stdout",
     "output_type": "stream",
     "text": [
      "Defaulting to user installation because normal site-packages is not writeable\n",
      "Requirement already satisfied: uwg in c:\\users\\lena.gaubert\\appdata\\roaming\\python\\python310\\site-packages (5.8.13)\n",
      "Note: you may need to restart the kernel to use updated packages.\n"
     ]
    },
    {
     "name": "stderr",
     "output_type": "stream",
     "text": [
      "\n",
      "[notice] A new release of pip is available: 24.1.1 -> 24.1.2\n",
      "[notice] To update, run: python.exe -m pip install --upgrade pip\n"
     ]
    }
   ],
   "source": [
    "%pip install uwg\n",
    "import uwg"
   ]
  },
  {
   "cell_type": "markdown",
   "metadata": {},
   "source": [
    "#### Read EPW files in Python\n",
    "---\n",
    "While you guys use your own thermic simulation softwares, one might wonder how to handle EPW files in Python! Since EPW files are pretty much like .CSV files, we can treat them as such with `pandas`. To install `pandas`, run `pip install pandas` in your terminal. You could also use [pyepw](https://github.com/rbuffat/pyepw) or [pvlib](https://github.com/pvlib/pvlib-python) (`pvlib.iotools.epw`function), but I believe `pandas` leads to less errors. If you use R, you might want to check out this [module](https://hongyuanjia.github.io/eplusr/reference/Epw.html)."
   ]
  },
  {
   "cell_type": "code",
   "execution_count": 2,
   "metadata": {},
   "outputs": [
    {
     "name": "stderr",
     "output_type": "stream",
     "text": [
      "\n",
      "[notice] A new release of pip is available: 24.1.1 -> 24.1.2\n",
      "[notice] To update, run: python.exe -m pip install --upgrade pip\n"
     ]
    },
    {
     "name": "stdout",
     "output_type": "stream",
     "text": [
      "Defaulting to user installation because normal site-packages is not writeable\n",
      "Requirement already satisfied: pandas in c:\\users\\lena.gaubert\\appdata\\roaming\\python\\python310\\site-packages (2.2.2)\n",
      "Requirement already satisfied: numpy>=1.22.4 in c:\\users\\lena.gaubert\\appdata\\roaming\\python\\python310\\site-packages (from pandas) (1.26.4)\n",
      "Requirement already satisfied: python-dateutil>=2.8.2 in c:\\users\\lena.gaubert\\appdata\\roaming\\python\\python310\\site-packages (from pandas) (2.9.0.post0)\n",
      "Requirement already satisfied: pytz>=2020.1 in c:\\users\\lena.gaubert\\appdata\\roaming\\python\\python310\\site-packages (from pandas) (2024.1)\n",
      "Requirement already satisfied: tzdata>=2022.7 in c:\\users\\lena.gaubert\\appdata\\roaming\\python\\python310\\site-packages (from pandas) (2024.1)\n",
      "Requirement already satisfied: six>=1.5 in c:\\users\\lena.gaubert\\appdata\\roaming\\python\\python310\\site-packages (from python-dateutil>=2.8.2->pandas) (1.16.0)\n",
      "Note: you may need to restart the kernel to use updated packages.\n"
     ]
    }
   ],
   "source": [
    "%pip install pandas\n",
    "import pandas as pd"
   ]
  },
  {
   "cell_type": "code",
   "execution_count": 3,
   "metadata": {},
   "outputs": [],
   "source": [
    "def read_epw(file_path):\n",
    "    # read EPW file as a list of lines\n",
    "    with open(file_path, 'r') as file:\n",
    "        lines = file.readlines()\n",
    "    \n",
    "    # extract EPW metadata \n",
    "    location = lines[0].strip()\n",
    "    design_conditions = lines[1].strip()\n",
    "    holidays_daylight_saving = lines[2].strip()\n",
    "    comments_1 = lines[3].strip()\n",
    "    comments_2 = lines[4].strip()\n",
    "    # metadata dict\n",
    "    metadata = {\n",
    "        \"location\": location,\n",
    "        \"design_conditions\": design_conditions,\n",
    "        \"holidays_daylight_saving\": holidays_daylight_saving,\n",
    "        \"comments_1\": comments_1,\n",
    "        \"comments_2\": comments_2\n",
    "    }\n",
    "\n",
    "    # column names as given by the EPW file documentation\n",
    "    epw_columns = [\n",
    "        \"year\", \"month\", \"day\", \"hour\", \"minute\", \"datasource\", \"dry_bulb_temperature\", \"dew_point_temperature\",\n",
    "        \"relative_humidity\", \"atmospheric_pressure\", \"extraterrestrial_horizontal_radiation\",\n",
    "        \"extraterrestrial_direct_normal_radiation\", \"horizontal_infrared_radiation_intensity_from_sky\",\n",
    "        \"global_horizontal_radiation\", \"direct_normal_radiation\", \"diffuse_horizontal_radiation\",\n",
    "        \"global_horizontal_illuminance\", \"direct_normal_illuminance\", \"diffuse_horizontal_illuminance\",\n",
    "        \"zenith_luminance\", \"wind_direction\", \"wind_speed\", \"total_sky_cover\", \"opaque_sky_cover\",\n",
    "        \"visibility\", \"ceiling_height\", \"present_weather_observation\", \"present_weather_codes\",\n",
    "        \"precipitable_water\", \"aerosol_optical_depth\", \"snow_depth\", \"days_since_last_snowfall\",\n",
    "        \"albedo\", \"liquid_precipitation_depth\", \"liquid_precipitation_quantity\"\n",
    "    ]\n",
    "\n",
    "    # read weather data as csv, and skip metadata rows\n",
    "    df = pd.read_csv(file_path, skiprows=8, header=None, names=epw_columns)\n",
    "\n",
    "    return metadata, df"
   ]
  },
  {
   "cell_type": "code",
   "execution_count": 4,
   "metadata": {},
   "outputs": [],
   "source": [
    "epw_file = \"../resources/SGP_Singapore.486980_IWEC.epw\"\n",
    "metadata, epw_df = read_epw(epw_file)"
   ]
  },
  {
   "cell_type": "code",
   "execution_count": 5,
   "metadata": {},
   "outputs": [
    {
     "name": "stdout",
     "output_type": "stream",
     "text": [
      "<class 'pandas.core.frame.DataFrame'>\n",
      "RangeIndex: 8760 entries, 0 to 8759\n",
      "Data columns (total 35 columns):\n",
      " #   Column                                            Non-Null Count  Dtype  \n",
      "---  ------                                            --------------  -----  \n",
      " 0   year                                              8760 non-null   int64  \n",
      " 1   month                                             8760 non-null   int64  \n",
      " 2   day                                               8760 non-null   int64  \n",
      " 3   hour                                              8760 non-null   int64  \n",
      " 4   minute                                            8760 non-null   int64  \n",
      " 5   datasource                                        8760 non-null   object \n",
      " 6   dry_bulb_temperature                              8760 non-null   float64\n",
      " 7   dew_point_temperature                             8760 non-null   float64\n",
      " 8   relative_humidity                                 8760 non-null   int64  \n",
      " 9   atmospheric_pressure                              8760 non-null   int64  \n",
      " 10  extraterrestrial_horizontal_radiation             8760 non-null   int64  \n",
      " 11  extraterrestrial_direct_normal_radiation          8760 non-null   int64  \n",
      " 12  horizontal_infrared_radiation_intensity_from_sky  8760 non-null   int64  \n",
      " 13  global_horizontal_radiation                       8760 non-null   int64  \n",
      " 14  direct_normal_radiation                           8760 non-null   int64  \n",
      " 15  diffuse_horizontal_radiation                      8760 non-null   int64  \n",
      " 16  global_horizontal_illuminance                     8760 non-null   int64  \n",
      " 17  direct_normal_illuminance                         8760 non-null   int64  \n",
      " 18  diffuse_horizontal_illuminance                    8760 non-null   int64  \n",
      " 19  zenith_luminance                                  8760 non-null   int64  \n",
      " 20  wind_direction                                    8760 non-null   int64  \n",
      " 21  wind_speed                                        8760 non-null   float64\n",
      " 22  total_sky_cover                                   8760 non-null   int64  \n",
      " 23  opaque_sky_cover                                  8760 non-null   int64  \n",
      " 24  visibility                                        8760 non-null   float64\n",
      " 25  ceiling_height                                    8760 non-null   int64  \n",
      " 26  present_weather_observation                       8760 non-null   int64  \n",
      " 27  present_weather_codes                             8760 non-null   int64  \n",
      " 28  precipitable_water                                8760 non-null   int64  \n",
      " 29  aerosol_optical_depth                             8760 non-null   float64\n",
      " 30  snow_depth                                        8760 non-null   int64  \n",
      " 31  days_since_last_snowfall                          8760 non-null   int64  \n",
      " 32  albedo                                            8760 non-null   float64\n",
      " 33  liquid_precipitation_depth                        8760 non-null   float64\n",
      " 34  liquid_precipitation_quantity                     8760 non-null   float64\n",
      "dtypes: float64(8), int64(26), object(1)\n",
      "memory usage: 2.3+ MB\n",
      "None\n"
     ]
    }
   ],
   "source": [
    "print(epw_df.info())"
   ]
  },
  {
   "cell_type": "markdown",
   "metadata": {},
   "source": [
    "**Other option :** use [ladybug](https://github.com/ladybug-tools/ladybug), a library developped for weather data analysis and visualisation! "
   ]
  },
  {
   "cell_type": "code",
   "execution_count": 10,
   "metadata": {},
   "outputs": [
    {
     "name": "stdout",
     "output_type": "stream",
     "text": [
      "Defaulting to user installation because normal site-packages is not writeable\n",
      "Requirement already satisfied: ladybug-core in c:\\users\\lena.gaubert\\appdata\\roaming\\python\\python310\\site-packages (0.43.1)\n",
      "Requirement already satisfied: ladybug-geometry==1.32.7 in c:\\users\\lena.gaubert\\appdata\\roaming\\python\\python310\\site-packages (from ladybug-core) (1.32.7)\n",
      "Requirement already satisfied: click==8.1.7 in c:\\users\\lena.gaubert\\appdata\\roaming\\python\\python310\\site-packages (from ladybug-core) (8.1.7)\n",
      "Requirement already satisfied: colorama in c:\\users\\lena.gaubert\\appdata\\roaming\\python\\python310\\site-packages (from click==8.1.7->ladybug-core) (0.4.6)\n",
      "Note: you may need to restart the kernel to use updated packages.\n",
      "Hourly Continuous Data Collection\n",
      "1/1 to 12/31 between 0 and 23 @1\n",
      "Dry Bulb Temperature (C)\n",
      "...8760 values...\n"
     ]
    },
    {
     "name": "stderr",
     "output_type": "stream",
     "text": [
      "\n",
      "[notice] A new release of pip is available: 24.1.1 -> 24.1.2\n",
      "[notice] To update, run: python.exe -m pip install --upgrade pip\n"
     ]
    }
   ],
   "source": [
    "%pip install ladybug-core\n",
    "# load epw weather data\n",
    "from ladybug.epw import EPW\n",
    "epw_data = EPW(epw_file)\n",
    "dry_bulb_temp = epw_data.dry_bulb_temperature\n",
    "print(dry_bulb_temp)"
   ]
  },
  {
   "cell_type": "markdown",
   "metadata": {},
   "source": [
    "### Use UWG\n",
    "---\n",
    "We'll work from the code provided in the repo's README. List of all parameters that can be included can be found [here](https://www.ladybug.tools/uwg/docs/uwg.uwg.html#uwg.uwg.UWG.B). While some of them have default values attributed to them, you may noticed that many parameters are by default not included in the calculations unless the user passes them as input.\n",
    "\n",
    "**Examples:**\n",
    ">*property* **h_temp**\n",
    ">Get or set temperature height in meters.\n",
    "\n",
    ">*property* **rurvegcover**\n",
    ">Get or set fraction of rural ground covered by vegetation.\n",
    "\n",
    ">*property* **vegstart**\n",
    ">Get or set value from 1 to 12 for month at which vegetation starts to evapotranspire.\n",
    ">This month corresponds to when the leaves of vegetation are assumed to be out.\n"
   ]
  },
  {
   "cell_type": "code",
   "execution_count": 7,
   "metadata": {},
   "outputs": [
    {
     "name": "stdout",
     "output_type": "stream",
     "text": [
      "Simulating new temperature and humidity values for 31 days from 1/1.\n",
      "Simulating Day 1\n",
      "Simulating Day 2\n",
      "Simulating Day 3\n",
      "Simulating Day 4\n",
      "Simulating Day 5\n",
      "Simulating Day 6\n",
      "Simulating Day 7\n",
      "Simulating Day 8\n",
      "Simulating Day 9\n",
      "Simulating Day 10\n",
      "Simulating Day 11\n",
      "Simulating Day 12\n",
      "Simulating Day 13\n",
      "Simulating Day 14\n",
      "Simulating Day 15\n",
      "Simulating Day 16\n",
      "Simulating Day 17\n",
      "Simulating Day 18\n",
      "Simulating Day 19\n",
      "Simulating Day 20\n",
      "Simulating Day 21\n",
      "Simulating Day 22\n",
      "Simulating Day 23\n",
      "Simulating Day 24\n",
      "Simulating Day 25\n",
      "Simulating Day 26\n",
      "Simulating Day 27\n",
      "Simulating Day 28\n",
      "Simulating Day 29\n",
      "Simulating Day 30\n",
      "Simulating Day 31\n",
      "New climate file is generated at SGP_Singapore.486980_IWEC_UWG.epw.\n"
     ]
    }
   ],
   "source": [
    "from uwg import UWG\n",
    "\n",
    "# Define the .epw, .uwg paths to create an uwg object.\n",
    "epw_path = \"../resources/SGP_Singapore.486980_IWEC.epw\" # available in resources directory.\n",
    "\n",
    "# Initialize the UWG model by passing parameters as arguments, or relying on defaults\n",
    "model = UWG.from_param_args(epw_path=epw_path, bldheight=10, blddensity=0.5,\n",
    "                            vertohor=0.8, grasscover=0.1, treecover=0.1, zone='1A')\n",
    "\n",
    "# Uncomment these lines to initialize the UWG model using a .uwg parameter file\n",
    "# param_path = \"initialize_singapore.uwg\"  # available in resources directory.\n",
    "# model = UWG.from_param_file(param_path, epw_path=epw_path)\n",
    "\n",
    "model.generate()\n",
    "model.simulate()\n",
    "\n",
    "# Write the simulation result to a file.\n",
    "model.write_epw()"
   ]
  },
  {
   "cell_type": "code",
   "execution_count": 8,
   "metadata": {},
   "outputs": [],
   "source": [
    "epw_file = \"SGP_Singapore.486980_IWEC_UWG.epw\"\n",
    "metadata, epw_df = read_epw(epw_file)"
   ]
  },
  {
   "cell_type": "markdown",
   "metadata": {},
   "source": [
    "`UWG` is the main class provided by the `uwg` module. Parameters are described [here](https://www.ladybug.tools/uwg/docs/uwg.uwg.html). \n",
    ">*Morph a rural EPW file to urban conditions based on defined urban parameters.*\n",
    "\n",
    "Other classes include: **BEM** (Building Energy Model), **RSM** (Rural Site Model), **UBL** (Urban Boundary Layer), **UCM** (Urban Canopy Model)...\n"
   ]
  }
 ],
 "metadata": {
  "kernelspec": {
   "display_name": "Python 3",
   "language": "python",
   "name": "python3"
  },
  "language_info": {
   "codemirror_mode": {
    "name": "ipython",
    "version": 3
   },
   "file_extension": ".py",
   "mimetype": "text/x-python",
   "name": "python",
   "nbconvert_exporter": "python",
   "pygments_lexer": "ipython3",
   "version": "3.10.11"
  }
 },
 "nbformat": 4,
 "nbformat_minor": 2
}
